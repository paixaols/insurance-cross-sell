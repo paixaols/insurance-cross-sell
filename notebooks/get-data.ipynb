{
 "cells": [
  {
   "cell_type": "code",
   "execution_count": 1,
   "id": "07a9952e",
   "metadata": {
    "ExecuteTime": {
     "end_time": "2021-10-05T14:19:40.881101Z",
     "start_time": "2021-10-05T14:19:27.313732Z"
    }
   },
   "outputs": [],
   "source": [
    "import pandas as pd\n",
    "from sqlalchemy import create_engine"
   ]
  },
  {
   "cell_type": "code",
   "execution_count": 12,
   "id": "bb313fe4",
   "metadata": {
    "ExecuteTime": {
     "end_time": "2021-10-05T14:28:41.388167Z",
     "start_time": "2021-10-05T14:28:41.370216Z"
    }
   },
   "outputs": [],
   "source": [
    "credentials = pd.read_csv('db_credentials.csv')\n",
    "host = credentials['host'].loc[0]\n",
    "port = credentials['port'].loc[0]\n",
    "database = credentials['database'].loc[0]\n",
    "user = credentials['user'].loc[0]\n",
    "pwd = credentials['password'].loc[0]"
   ]
  },
  {
   "cell_type": "code",
   "execution_count": 13,
   "id": "e89f73d7",
   "metadata": {
    "ExecuteTime": {
     "end_time": "2021-10-05T14:29:06.412800Z",
     "start_time": "2021-10-05T14:29:05.830342Z"
    }
   },
   "outputs": [],
   "source": [
    "engine = create_engine('postgresql://{}:{}@{}:{}/{}'.format(user, pwd, host, port, database), echo = False)\n",
    "conn = engine.connect()"
   ]
  },
  {
   "cell_type": "code",
   "execution_count": 22,
   "id": "d253e1d9",
   "metadata": {
    "ExecuteTime": {
     "end_time": "2021-09-29T14:43:00.744562Z",
     "start_time": "2021-09-29T14:42:55.638068Z"
    }
   },
   "outputs": [],
   "source": [
    "query = '''\n",
    "SELECT *\n",
    "FROM pa004.insurance\n",
    "'''\n",
    "df_insurance = pd.read_sql_query(query, conn)\n",
    "df_insurance.to_csv('../data/raw/insurance.csv', index = False)"
   ]
  },
  {
   "cell_type": "code",
   "execution_count": 23,
   "id": "9e2392e9",
   "metadata": {
    "ExecuteTime": {
     "end_time": "2021-09-29T14:43:39.067778Z",
     "start_time": "2021-09-29T14:43:27.994947Z"
    }
   },
   "outputs": [],
   "source": [
    "query = '''\n",
    "SELECT *\n",
    "FROM pa004.vehicle\n",
    "'''\n",
    "df_vehicle = pd.read_sql_query(query, conn)\n",
    "df_vehicle.to_csv('../data/raw/vehicle.csv', index = False)"
   ]
  },
  {
   "cell_type": "code",
   "execution_count": 25,
   "id": "105544d0",
   "metadata": {
    "ExecuteTime": {
     "end_time": "2021-09-29T14:44:58.469063Z",
     "start_time": "2021-09-29T14:44:50.711001Z"
    }
   },
   "outputs": [],
   "source": [
    "query = '''\n",
    "SELECT *\n",
    "FROM pa004.users\n",
    "'''\n",
    "df_users = pd.read_sql_query(query, conn)\n",
    "df_users.to_csv('../data/raw/users.csv', index = False)"
   ]
  },
  {
   "cell_type": "code",
   "execution_count": 15,
   "id": "4aa95834",
   "metadata": {
    "ExecuteTime": {
     "end_time": "2021-09-29T14:45:23.717072Z",
     "start_time": "2021-09-29T14:45:23.538705Z"
    }
   },
   "outputs": [],
   "source": [
    "conn.close()"
   ]
  },
  {
   "cell_type": "code",
   "execution_count": null,
   "id": "e7fcb3df",
   "metadata": {},
   "outputs": [],
   "source": []
  }
 ],
 "metadata": {
  "kernelspec": {
   "display_name": "Python 3 (ipykernel)",
   "language": "python",
   "name": "python3"
  },
  "language_info": {
   "codemirror_mode": {
    "name": "ipython",
    "version": 3
   },
   "file_extension": ".py",
   "mimetype": "text/x-python",
   "name": "python",
   "nbconvert_exporter": "python",
   "pygments_lexer": "ipython3",
   "version": "3.9.12"
  }
 },
 "nbformat": 4,
 "nbformat_minor": 5
}
